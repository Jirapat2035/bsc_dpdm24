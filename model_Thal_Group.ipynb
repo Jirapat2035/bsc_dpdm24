{
  "nbformat": 4,
  "nbformat_minor": 0,
  "metadata": {
    "colab": {
      "provenance": [],
      "authorship_tag": "ABX9TyPqB6qahge4qhpGdy06Ibq3",
      "include_colab_link": true
    },
    "kernelspec": {
      "name": "python3",
      "display_name": "Python 3"
    },
    "language_info": {
      "name": "python"
    }
  },
  "cells": [
    {
      "cell_type": "markdown",
      "metadata": {
        "id": "view-in-github",
        "colab_type": "text"
      },
      "source": [
        "<a href=\"https://colab.research.google.com/github/Jirapat2035/bsc_dpdm24/blob/main/model_Thal_Group.ipynb\" target=\"_parent\"><img src=\"https://colab.research.google.com/assets/colab-badge.svg\" alt=\"Open In Colab\"/></a>"
      ]
    },
    {
      "cell_type": "code",
      "execution_count": 2,
      "metadata": {
        "colab": {
          "base_uri": "https://localhost:8080/"
        },
        "id": "Z-p9RrWCmVsb",
        "outputId": "e748a053-b391-4b51-a34a-fd8a5ce4d534"
      },
      "outputs": [
        {
          "output_type": "stream",
          "name": "stdout",
          "text": [
            "Accuracy on validation set: 0.9480\n",
            "✅ การทำนายเสร็จสมบูรณ์! ไฟล์ y_pred.csv ถูกบันทึกแล้ว\n"
          ]
        }
      ],
      "source": [
        "# นำเข้าไลบรารีที่จำเป็น\n",
        "import pandas as pd\n",
        "from sklearn.model_selection import train_test_split\n",
        "from sklearn.impute import SimpleImputer\n",
        "from sklearn.ensemble import RandomForestClassifier\n",
        "from sklearn.metrics import accuracy_score\n",
        "\n",
        "# โหลดข้อมูลจากไฟล์ CSV\n",
        "train_df = pd.read_csv(\"train_set.csv\")\n",
        "x_test_df = pd.read_csv(\"X_test.csv\")\n",
        "\n",
        "# ลบคอลัมน์ที่ไม่จำเป็น (id number)\n",
        "train_df_clean = train_df.drop(columns=[\"id number\"], errors='ignore')\n",
        "x_test_clean = x_test_df.drop(columns=[\"id number\"], errors='ignore')\n",
        "\n",
        "# แยก Features และ Target\n",
        "X = train_df_clean.drop(columns=[\"Thal_Group\"])\n",
        "y = train_df_clean[\"Thal_Group\"]\n",
        "\n",
        "# จัดการค่าหายไปด้วย Mean Imputation\n",
        "imputer = SimpleImputer(strategy=\"mean\")\n",
        "X_imputed = imputer.fit_transform(X)\n",
        "X_test_imputed = imputer.transform(x_test_clean)\n",
        "\n",
        "# แบ่งข้อมูล Train/Test\n",
        "X_train, X_val, y_train, y_val = train_test_split(X_imputed, y, test_size=0.2, random_state=42)\n",
        "\n",
        "# สร้างและฝึกโมเดล Random Forest\n",
        "model = RandomForestClassifier(n_estimators=100, random_state=42)\n",
        "model.fit(X_train, y_train)\n",
        "\n",
        "# ประเมินผลลัพธ์บน Validation Set\n",
        "y_val_pred = model.predict(X_val)\n",
        "accuracy = accuracy_score(y_val, y_val_pred)\n",
        "print(f'Accuracy on validation set: {accuracy:.4f}')\n",
        "\n",
        "# ทำนายค่า Thal_Group บน X_test\n",
        "y_test_pred = model.predict(X_test_imputed)\n",
        "\n",
        "# บันทึกผลลัพธ์เป็นไฟล์ CSV\n",
        "output_df = pd.DataFrame({\"Thal_Group\": y_test_pred})\n",
        "output_df.to_csv(\"y_pred.csv\", index=False)\n",
        "\n",
        "print(\"✅ การทำนายเสร็จสมบูรณ์! ไฟล์ y_pred.csv ถูกบันทึกแล้ว\")\n",
        "\n"
      ]
    },
    {
      "cell_type": "code",
      "source": [
        "import pandas as pd\n",
        "\n",
        "df = pd.read_csv(\"y_pred.csv\")\n",
        "print(df.head())"
      ],
      "metadata": {
        "colab": {
          "base_uri": "https://localhost:8080/"
        },
        "id": "e-rR5xNgnceN",
        "outputId": "22c71b0d-6a0e-49e9-b713-ea434e3524e7"
      },
      "execution_count": 3,
      "outputs": [
        {
          "output_type": "stream",
          "name": "stdout",
          "text": [
            "  Thal_Group\n",
            "0     Normal\n",
            "1     Normal\n",
            "2     Normal\n",
            "3     Normal\n",
            "4     Normal\n"
          ]
        }
      ]
    }
  ]
}